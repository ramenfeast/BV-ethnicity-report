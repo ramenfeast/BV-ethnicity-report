{
 "cells": [
  {
   "cell_type": "code",
   "execution_count": 5,
   "id": "c40928c8",
   "metadata": {},
   "outputs": [],
   "source": [
    "import numpy as np\n",
    "import pandas as pd\n",
    "import requests\n",
    "import io\n",
    "from sklearn.model_selection import train_test_split\n",
    "import matplotlib.pyplot as plt\n",
    "import seaborn as sns   \n",
    "from sklearn.ensemble import RandomForestClassifier\n",
    "from mlxtend.feature_selection import SequentialFeatureSelector as sfs\n",
    "from mlxtend.plotting import plot_sequential_feature_selection as plot_sfs\n",
    "from sklearn.metrics import accuracy_score as acc"
   ]
  },
  {
   "cell_type": "code",
   "execution_count": 6,
   "id": "9ee4928d",
   "metadata": {},
   "outputs": [
    {
     "name": "stdout",
     "output_type": "stream",
     "text": [
      "    Ethnic Groupa Community groupc    pH  L. iners  L. crispatus  L. gasseri  \\\n",
      "0           Asian                 I  4.0       8.4          90.8         0.1   \n",
      "1           White                II  4.0       0.1           0.0        88.5   \n",
      "2           Black               III  4.0      74.2           0.1         0.1   \n",
      "3           Asian                 I  4.7       0.0          98.7         0.0   \n",
      "4           Black                IV  5.0       4.9           0.1         0.1   \n",
      "..            ...               ...  ...       ...           ...         ...   \n",
      "392         Asian               III  4.4      99.5           0.1         0.0   \n",
      "393         Asian               III  4.4      93.4           0.0         0.0   \n",
      "394           NaN               NaN  NaN       NaN           NaN         NaN   \n",
      "395           NaN               NaN  NaN       NaN           NaN         NaN   \n",
      "396           NaN               NaN  NaN       NaN           NaN         NaN   \n",
      "\n",
      "     L. jensenii  Prevotella  Megasphaera  Sneathia  ...  Gordonia  \\\n",
      "0            0.0         0.0          0.0       0.0  ...       0.0   \n",
      "1           10.1         0.1          0.1       0.0  ...       0.0   \n",
      "2           24.6         0.1          0.0       0.0  ...       0.0   \n",
      "3            0.0         0.0          0.0       0.0  ...       0.0   \n",
      "4            0.0        30.8         23.6      17.7  ...       0.0   \n",
      "..           ...         ...          ...       ...  ...       ...   \n",
      "392          0.0         0.0          0.0       0.0  ...       0.0   \n",
      "393          0.0         0.9          0.0       0.0  ...       0.0   \n",
      "394          NaN         NaN          NaN       NaN  ...       NaN   \n",
      "395          NaN         NaN          NaN       NaN  ...       NaN   \n",
      "396          NaN         NaN          NaN       NaN  ...       NaN   \n",
      "\n",
      "     Flectobacillus  Dermacoccus  Bacillus_c  Clostridiales_18  \\\n",
      "0               0.0          0.0         0.0               0.0   \n",
      "1               0.0          0.0         0.0               0.0   \n",
      "2               0.0          0.0         0.0               0.0   \n",
      "3               0.0          0.0         0.0               0.0   \n",
      "4               0.0          0.0         0.0               0.0   \n",
      "..              ...          ...         ...               ...   \n",
      "392             0.0          0.0         0.0               0.0   \n",
      "393             0.0          0.0         0.0               0.0   \n",
      "394             NaN          NaN         NaN               NaN   \n",
      "395             NaN          NaN         NaN               NaN   \n",
      "396             NaN          NaN         NaN               NaN   \n",
      "\n",
      "     Proteobacteria_16  Simplicispira  Bacilli_2  Microbacterium  Nugent score  \n",
      "0                  0.0            0.0        0.0             0.0           0.0  \n",
      "1                  0.0            0.0        0.0             0.0           0.0  \n",
      "2                  0.0            0.0        0.0             0.0           1.0  \n",
      "3                  0.0            0.0        0.0             0.0           0.0  \n",
      "4                  0.0            0.0        0.0             0.0           6.0  \n",
      "..                 ...            ...        ...             ...           ...  \n",
      "392                0.0            0.0        0.0             0.0           0.0  \n",
      "393                0.0            0.0        0.0             0.0           2.0  \n",
      "394                NaN            NaN        NaN             NaN           NaN  \n",
      "395                NaN            NaN        NaN             NaN           NaN  \n",
      "396                NaN            NaN        NaN             NaN           NaN  \n",
      "\n",
      "[397 rows x 251 columns]\n"
     ]
    }
   ],
   "source": [
    "url = \"https://cdn.jsdelivr.net/gh/ramenfeast/BV-ethnicity-report/BV%20Dataset%20copy.csv\"\n",
    "download = requests.get(url).content\n",
    "df = pd.read_csv(io.StringIO(download.decode('utf-8')))\n",
    "\n",
    "print(df)\n",
    "\n",
    "#%%Clean data\n",
    "df = df.drop([394,395,396], axis = 0)\n",
    "\n",
    "#%% Separate the Data and Labels\n",
    "X = df.iloc[:,:-1]\n",
    "y = df.iloc[:,-1]\n",
    "\n",
    "#%% Train Test Split\n",
    "X_train, X_test, y_train, y_test = train_test_split(X, y,test_size=0.2, random_state=1)\n",
    "#%% Extract Ethinic group and commmunity group data\n",
    "es_xtest = X_test[['Ethnic Groupa']].copy()\n",
    "cs_xtest = X_test[['Community groupc ']].copy()\n",
    "X_test=X_test.drop(labels= ['Ethnic Groupa', 'Community groupc '], axis=1)\n",
    "\n",
    "\n",
    "es_xtrain = X_train[['Ethnic Groupa']].copy()\n",
    "cs_xtrain = X_train[['Community groupc ']].copy()\n",
    "X_train=X_train.drop(labels= ['Ethnic Groupa', 'Community groupc '], axis=1)\n",
    "\n",
    "#%%Normalization\n",
    "\n",
    "#Normalize pH\n",
    "X_train['pH']=X_train['pH']/14\n",
    "X_test['pH']=X_test['pH']/14\n",
    "\n",
    "#Normalize 16s RNA data\n",
    "X_train.iloc[:,1::]=X_train.iloc[:,1::]/100\n",
    "X_test.iloc[:,1::]=X_test.iloc[:,1::]/100\n",
    "\n",
    "#%%Binary y\n",
    "y_train[y_train<7]=0\n",
    "y_train[y_train>=7]=1\n",
    "\n",
    "y_test[y_test<7]=0\n",
    "y_test[y_test>=7]=1"
   ]
  },
  {
   "cell_type": "code",
   "execution_count": 7,
   "id": "8cc6d450",
   "metadata": {},
   "outputs": [
    {
     "name": "stdout",
     "output_type": "stream",
     "text": [
      "['Sneathia', 'Ruminococcaceae_3', 'Arcanobacterium']\n"
     ]
    }
   ],
   "source": [
    "clfrf = RandomForestClassifier().fit(X_train, y_train)\n",
    "\n",
    "# Backward feature selection\n",
    "#k_feature how many features to select\n",
    "#verbose model summary each iteration\n",
    "sf = sfs(clfrf,k_features=3,forward=False,scoring='accuracy')\n",
    "sf.fit(X_train, y_train)\n",
    "\n",
    "feat_names = list(sf.k_feature_names_)\n",
    "print(feat_names)"
   ]
  },
  {
   "cell_type": "code",
   "execution_count": 8,
   "id": "97bc1d6e",
   "metadata": {},
   "outputs": [
    {
     "data": {
      "image/png": "[encoded data removed]",
      "text/plain": [
       "<Figure size 640x480 with 1 Axes>"
      ]
     },
     "metadata": {},
     "output_type": "display_data"
    }
   ],
   "source": [
    "# Plot the model accuracy\n",
    "plot_sfs(sf.get_metric_dict())\n",
    "plt.show()"
   ]
  }
 ],
 "metadata": {
  "kernelspec": {
   "display_name": "Python 3 (ipykernel)",
   "language": "python",
   "name": "python3"
  },
  "language_info": {
   "codemirror_mode": {
    "name": "ipython",
    "version": 3
   },
   "file_extension": ".py",
   "mimetype": "text/x-python",
   "name": "python",
   "nbconvert_exporter": "python",
   "pygments_lexer": "ipython3",
   "version": "3.9.13"
  }
 },
 "nbformat": 4,
 "nbformat_minor": 5
}
