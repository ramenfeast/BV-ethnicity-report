{
 "cells": [
  {
   "cell_type": "code",
   "execution_count": null,
   "id": "c40928c8",
   "metadata": {},
   "outputs": [],
   "source": [
    "import numpy as np\n",
    "import pandas as pd\n",
    "import requests\n",
    "import io\n",
    "from sklearn.model_selection import train_test_split\n",
    "import matplotlib.pyplot as plt\n",
    "import seaborn as sns   \n",
    "from sklearn.ensemble import RandomForestClassifier\n",
    "from mlxtend.feature_selection import SequentialFeatureSelector as sfs\n",
    "from sklearn.metrics import accuracy_score as acc"
   ]
  },
  {
   "cell_type": "code",
   "execution_count": null,
   "id": "9ee4928d",
   "metadata": {},
   "outputs": [],
   "source": [
    "url = \"https://cdn.jsdelivr.net/gh/ramenfeast/BV-ethnicity-report/BV%20Dataset%20copy.csv\"\n",
    "download = requests.get(url).content\n",
    "df = pd.read_csv(io.StringIO(download.decode('utf-8')))\n",
    "\n",
    "print(df)\n",
    "\n",
    "#%%Clean data\n",
    "df = df.drop([394,395,396], axis = 0)\n",
    "\n",
    "#%% Separate the Data and Labels\n",
    "X = df.iloc[:,:-1]\n",
    "y = df.iloc[:,-1]\n",
    "\n",
    "#%% Train Test Split\n",
    "X_train, X_test, y_train, y_test = train_test_split(X, y,test_size=0.2, random_state=1)\n",
    "#%% Extract Ethinic group and commmunity group data\n",
    "es_xtest = X_test[['Ethnic Groupa']].copy()\n",
    "cs_xtest = X_test[['Community groupc ']].copy()\n",
    "X_test=X_test.drop(labels= ['Ethnic Groupa', 'Community groupc '], axis=1)\n",
    "\n",
    "\n",
    "es_xtrain = X_train[['Ethnic Groupa']].copy()\n",
    "cs_xtrain = X_train[['Community groupc ']].copy()\n",
    "X_train=X_train.drop(labels= ['Ethnic Groupa', 'Community groupc '], axis=1)\n",
    "\n",
    "#%%Normalization\n",
    "\n",
    "#Normalize pH\n",
    "X_train['pH']=X_train['pH']/14\n",
    "X_test['pH']=X_test['pH']/14\n",
    "\n",
    "#Normalize 16s RNA data\n",
    "X_train.iloc[:,1::]=X_train.iloc[:,1::]/100\n",
    "X_test.iloc[:,1::]=X_test.iloc[:,1::]/100\n",
    "\n",
    "#%%Binary y\n",
    "y_train[y_train<7]=0\n",
    "y_train[y_train>=7]=1\n",
    "\n",
    "y_test[y_test<7]=0\n",
    "y_test[y_test>=7]=1"
   ]
  },
  {
   "cell_type": "code",
   "execution_count": null,
   "id": "8cc6d450",
   "metadata": {},
   "outputs": [],
   "source": [
    "clfrf = RandomForestClassifier().fit(X_train, y_train)\n",
    "\n",
    "# Backward feature selection\n",
    "#k_feature how many features to select\n",
    "#verbose model summary each iteration\n",
    "sf = sfs(clfrf,k_features=3,forward=True,scoring='accuracy')\n",
    "sf.fit(X_train, y_train)\n",
    "\n",
    "feat_names = list(sf.k_feature_names_)\n",
    "print(feat_names)"
   ]
  },
  {
   "cell_type": "code",
   "execution_count": null,
   "id": "97bc1d6e",
   "metadata": {},
   "outputs": [],
   "source": [
    "# Plot the model accuracy\n",
    "plot_sfs(sf.get_metric_dict())\n",
    "plt.show()"
   ]
  }
 ],
 "metadata": {
  "kernelspec": {
   "display_name": "Python 3 (ipykernel)",
   "language": "python",
   "name": "python3"
  },
  "language_info": {
   "codemirror_mode": {
    "name": "ipython",
    "version": 3
   },
   "file_extension": ".py",
   "mimetype": "text/x-python",
   "name": "python",
   "nbconvert_exporter": "python",
   "pygments_lexer": "ipython3",
   "version": "3.9.13"
  }
 },
 "nbformat": 4,
 "nbformat_minor": 5
}
