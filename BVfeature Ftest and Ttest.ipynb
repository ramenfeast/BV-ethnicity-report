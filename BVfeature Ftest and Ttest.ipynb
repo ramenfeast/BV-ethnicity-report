{
 "cells": [
  {
   "cell_type": "code",
   "execution_count": 27,
   "id": "317d5d92",
   "metadata": {},
   "outputs": [],
   "source": [
    "import numpy as np\n",
    "import pandas as pd\n",
    "import requests\n",
    "import io\n",
    "from sklearn.model_selection import train_test_split\n",
    "import matplotlib.pyplot as plt\n",
    "from sklearn.ensemble import RandomForestClassifier\n",
    "import seaborn as sns   \n",
    "from sklearn.metrics import accuracy_score\n",
    "from sklearn.feature_selection import SelectKBest, SelectPercentile, f_classif\n"
   ]
  },
  {
   "cell_type": "code",
   "execution_count": 28,
   "id": "df44b4dc",
   "metadata": {},
   "outputs": [
    {
     "name": "stdout",
     "output_type": "stream",
     "text": [
      "113    1.0\n",
      "281    0.0\n",
      "68     0.0\n",
      "155    0.0\n",
      "329    1.0\n",
      "      ... \n",
      "90     0.0\n",
      "124    0.0\n",
      "64     0.0\n",
      "55     0.0\n",
      "300    1.0\n",
      "Name: Nugent score, Length: 79, dtype: float64\n"
     ]
    }
   ],
   "source": [
    "\n",
    "url = \"https://cdn.jsdelivr.net/gh/ramenfeast/BV-ethnicity-report/BV%20Dataset%20copy.csv\"\n",
    "download = requests.get(url).content\n",
    "df = pd.read_csv(io.StringIO(download.decode('utf-8')))\n",
    "\n",
    "#%%Clean data\n",
    "df = df.drop([394,395,396], axis = 0)\n",
    "\n",
    "#%% Separate the Data and Labels\n",
    "X = df.iloc[:,:-1]\n",
    "y = df.iloc[:,-1]\n",
    "\n",
    "#%% Train Test Split\n",
    "X_train, X_test, y_train, y_test = train_test_split(X, y,test_size=0.2, random_state=0)\n",
    "#%% Extract Ethinic group and commmunity group data\n",
    "es_xtest = X_test[['Ethnic Groupa']].copy()\n",
    "cs_xtest = X_test[['Community groupc ']].copy()\n",
    "X_test=X_test.drop(labels= ['Ethnic Groupa', 'Community groupc '], axis=1)\n",
    "\n",
    "\n",
    "es_xtrain = X_train[['Ethnic Groupa']].copy()\n",
    "cs_xtrain = X_train[['Community groupc ']].copy()\n",
    "X_train=X_train.drop(labels= ['Ethnic Groupa', 'Community groupc '], axis=1)\n",
    "\n",
    "#%%Normalization\n",
    "\n",
    "#Normalize pH\n",
    "X_train['pH']=X_train['pH']/14\n",
    "X_test['pH']=X_test['pH']/14\n",
    "\n",
    "#Normalize 16s RNA data\n",
    "X_train.iloc[:,1::]=X_train.iloc[:,1::]/100\n",
    "X_test.iloc[:,1::]=X_test.iloc[:,1::]/100\n",
    "\n",
    "#%%Binary y\n",
    "y_train[y_train<7]=0\n",
    "y_train[y_train>=7]=1\n",
    "\n",
    "y_test[y_test<7]=0\n",
    "y_test[y_test>=7]=1\n",
    "\n",
    "print(y_test)"
   ]
  },
  {
   "cell_type": "code",
   "execution_count": 29,
   "id": "2dde2b54",
   "metadata": {
    "scrolled": true
   },
   "outputs": [
    {
     "name": "stdout",
     "output_type": "stream",
     "text": [
      "<class 'pandas.core.frame.DataFrame'>\n",
      "Int64Index: 315 entries, 215 to 172\n",
      "Data columns (total 46 columns):\n",
      " #   Column                          Non-Null Count  Dtype  \n",
      "---  ------                          --------------  -----  \n",
      " 0   pH                              315 non-null    float64\n",
      " 1   L. iners                        315 non-null    float64\n",
      " 2   L. crispatus                    315 non-null    float64\n",
      " 3   L. jensenii                     315 non-null    float64\n",
      " 4   Prevotella                      315 non-null    float64\n",
      " 5   Megasphaera                     315 non-null    float64\n",
      " 6   Sneathia                        315 non-null    float64\n",
      " 7   Atopobium                       315 non-null    float64\n",
      " 8   Dialister                       315 non-null    float64\n",
      " 9   Lachnospiraceae_8               315 non-null    float64\n",
      " 10  Anaerococcus                    315 non-null    float64\n",
      " 11  Peptoniphilus                   315 non-null    float64\n",
      " 12  Eggerthella                     315 non-null    float64\n",
      " 13  Proteobacteria_12               315 non-null    float64\n",
      " 14  Ruminococcaceae_3               315 non-null    float64\n",
      " 15  Aerococcus                      315 non-null    float64\n",
      " 16  Parvimonas                      315 non-null    float64\n",
      " 17  Gardnerella                     315 non-null    float64\n",
      " 18  Prevotellaceae_2                315 non-null    float64\n",
      " 19  Peptostreptococcus              315 non-null    float64\n",
      " 20  Mobiluncus                      315 non-null    float64\n",
      " 21  Porphyromonas                   315 non-null    float64\n",
      " 22  Lactobacillales_2               315 non-null    float64\n",
      " 23  Gemella                         315 non-null    float64\n",
      " 24  Ruminococcaceae_4               315 non-null    float64\n",
      " 25  Lactobacillales_5               315 non-null    float64\n",
      " 26  Ruminococcaceae_Incertae_Sedis  315 non-null    float64\n",
      " 27  Lactobacillales_6               315 non-null    float64\n",
      " 28  Fusobacterium                   315 non-null    float64\n",
      " 29  Moryella                        315 non-null    float64\n",
      " 30  Bacteroidetes_8                 315 non-null    float64\n",
      " 31  Anaeroglobus                    315 non-null    float64\n",
      " 32  Lachnospiraceae_4               315 non-null    float64\n",
      " 33  Prevotellaceae_1                315 non-null    float64\n",
      " 34  Proteobacteria_1                315 non-null    float64\n",
      " 35  Bacteroidales_1                 315 non-null    float64\n",
      " 36  Proteobacteria_2                315 non-null    float64\n",
      " 37  Peptococcus                     315 non-null    float64\n",
      " 38  Arcanobacterium                 315 non-null    float64\n",
      " 39  Lactobacillales_7               315 non-null    float64\n",
      " 40  Coriobacteriaceae_2             315 non-null    float64\n",
      " 41  Bulleidia                       315 non-null    float64\n",
      " 42  Lachnospiraceae_9               315 non-null    float64\n",
      " 43  Bacteroidetes_1                 315 non-null    float64\n",
      " 44  Clostridiales_4                 315 non-null    float64\n",
      " 45  Ruminococcaceae_6               315 non-null    float64\n",
      "dtypes: float64(46)\n",
      "memory usage: 115.7 KB\n",
      "Accuracy Score RF = 0.9240506329113924\n",
      "Important Features Accuracy Score RF = 0.9367088607594937\n"
     ]
    },
    {
     "name": "stderr",
     "output_type": "stream",
     "text": [
      "/Users/dionming/opt/anaconda3/envs/BVrun/lib/python3.7/site-packages/sklearn/feature_selection/_univariate_selection.py:112: UserWarning: Features [ 95 134 208 212 231 237] are constant.\n",
      "  warnings.warn(\"Features %s are constant.\" % constant_features_idx, UserWarning)\n",
      "/Users/dionming/opt/anaconda3/envs/BVrun/lib/python3.7/site-packages/sklearn/feature_selection/_univariate_selection.py:113: RuntimeWarning: invalid value encountered in true_divide\n",
      "  f = msb / msw\n"
     ]
    }
   ],
   "source": [
    "#Get features highest ftest\n",
    "fvalue_Best = SelectKBest(f_classif, k=46)\n",
    "fvalue_Best.fit(X_train, y_train)\n",
    "#print(X_kbest)\n",
    "#print('Original number of features:', X.shape)\n",
    "#print('Reduced number of features:', X_kbest.shape)\n",
    "\n",
    "cols = fvalue_Best.get_support(indices=True) \n",
    "features_df_newtrain = X_train.iloc[:,cols]\n",
    "features_df_newtest = X_test.iloc[:,cols]\n",
    "#print(features_df_new)\n",
    "features_df_newtrain.info()\n",
    "\n",
    "#print(features_df_new_target.shape)\n",
    "#print(features_df_new.shape[1])\n",
    "\n",
    "#original RF\n",
    "clfrf = RandomForestClassifier(n_estimators = 100, random_state=0)\n",
    "clfrf.fit(X_train, y_train)\n",
    "y_pred = clfrf.predict(X_test)\n",
    "print(f'Accuracy Score RF = {accuracy_score(y_test, y_pred)}')\n",
    "\n",
    "#Ftest RF\n",
    "clfrf_imp = RandomForestClassifier(n_estimators=100)\n",
    "clfrf_imp.fit(features_df_newtrain,y_train)\n",
    "y_pred_imp = clfrf_imp.predict(features_df_newtest)\n",
    "print(f'Important Features Accuracy Score RF = {accuracy_score(y_test, y_pred_imp)}')"
   ]
  },
  {
   "cell_type": "code",
   "execution_count": null,
   "id": "6417173f",
   "metadata": {
    "scrolled": true
   },
   "outputs": [],
   "source": []
  },
  {
   "cell_type": "code",
   "execution_count": null,
   "id": "7f688a48",
   "metadata": {},
   "outputs": [],
   "source": []
  }
 ],
 "metadata": {
  "kernelspec": {
   "display_name": "Python 3 (ipykernel)",
   "language": "python",
   "name": "python3"
  },
  "language_info": {
   "codemirror_mode": {
    "name": "ipython",
    "version": 3
   },
   "file_extension": ".py",
   "mimetype": "text/x-python",
   "name": "python",
   "nbconvert_exporter": "python",
   "pygments_lexer": "ipython3",
   "version": "3.7.13"
  }
 },
 "nbformat": 4,
 "nbformat_minor": 5
}
